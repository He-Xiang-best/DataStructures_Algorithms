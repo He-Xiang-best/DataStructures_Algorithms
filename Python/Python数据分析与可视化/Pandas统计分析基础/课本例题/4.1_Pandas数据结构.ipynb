{
 "cells": [
  {
   "cell_type": "markdown",
   "metadata": {},
   "source": [
    "Pandas中的数据结构"
   ]
  },
  {
   "cell_type": "code",
   "execution_count": 1,
   "metadata": {},
   "outputs": [
    {
     "name": "stdout",
     "output_type": "stream",
     "text": [
      "0    1\n",
      "1   -2\n",
      "2    3\n",
      "3   -4\n",
      "dtype: int64\n"
     ]
    }
   ],
   "source": [
    "import pandas as pd\n",
    "obj = pd.Series([1,-2,3,-4])\n",
    "print(obj)"
   ]
  },
  {
   "cell_type": "code",
   "execution_count": 3,
   "metadata": {},
   "outputs": [
    {
     "name": "stdout",
     "output_type": "stream",
     "text": [
      "a    2\n",
      "c    4\n",
      "d    5\n",
      "a    7\n",
      "Name: col, dtype: int64\n"
     ]
    }
   ],
   "source": [
    "i=[\"a\",\"c\",\"d\",\"a\"]\n",
    "v=[2,4,5,7]\n",
    "t=pd.Series(v,index=i,name=\"col\")\n",
    "print(t)"
   ]
  },
  {
   "cell_type": "code",
   "execution_count": 8,
   "metadata": {},
   "outputs": [
    {
     "name": "stdout",
     "output_type": "stream",
     "text": [
      "RangeIndex(start=0, stop=4, step=1)\n",
      "RangeIndex(start=10, stop=14, step=1)\n",
      "Index(['hello', 'the', 'cruel', 'world'], dtype='object')\n",
      "2\n",
      "2\n",
      "2\n",
      "default: 2 label: 2\n"
     ]
    }
   ],
   "source": [
    "val=[2,4,5,6]\n",
    "idx1=range(10,14)\n",
    "idx2=\"hello the cruel world\".split()\n",
    "s0=pd.Series(val)\n",
    "s1=pd.Series(val,index=idx1)\n",
    "t=pd.Series(val,index=idx2)\n",
    "print(s0.index)\n",
    "print(s1.index)\n",
    "print(t.index)\n",
    "print(s0[0])\n",
    "print(s1[10])#若是用数值来作为关键字，则不能通过缺省的方式访问\n",
    "print('default:',t[0],'label:',t[\"hello\"])"
   ]
  },
  {
   "cell_type": "code",
   "execution_count": 9,
   "metadata": {},
   "outputs": [
    {
     "name": "stdout",
     "output_type": "stream",
     "text": [
      "Ohio      35000\n",
      "Texas     71000\n",
      "Oregon    16000\n",
      "Utah       5000\n",
      "dtype: int64\n"
     ]
    }
   ],
   "source": [
    "sdata={'Ohio':35000,'Texas':71000,'Oregon':16000,'Utah':5000}\n",
    "obj3=pd.Series(sdata)\n",
    "print(obj3)"
   ]
  },
  {
   "cell_type": "code",
   "execution_count": 10,
   "metadata": {},
   "outputs": [
    {
     "name": "stdout",
     "output_type": "stream",
     "text": [
      "a    100\n",
      "b    200\n",
      "e    300\n",
      "dtype: int64\n"
     ]
    }
   ],
   "source": [
    "sdata={'a':100,'b':200,'e':300}\n",
    "obj3=pd.Series(sdata)\n",
    "print(obj3)"
   ]
  },
  {
   "cell_type": "code",
   "execution_count": 28,
   "metadata": {},
   "outputs": [
    {
     "name": "stdout",
     "output_type": "stream",
     "text": [
      "c      NaN\n",
      "a    100.0\n",
      "e    300.0\n",
      "b    200.0\n",
      "dtype: float64\n"
     ]
    }
   ],
   "source": [
    "sdata={'a':100,'b':200,'e':300}\n",
    "letter={'a','b','c','e'}\n",
    "obj=pd.Series(sdata,index=letter)\n",
    "print(obj)"
   ]
  },
  {
   "cell_type": "code",
   "execution_count": 46,
   "metadata": {},
   "outputs": [
    {
     "name": "stdout",
     "output_type": "stream",
     "text": [
      "Ohio      35000\n",
      "Texas     71000\n",
      "Oregon    16000\n",
      "Utah       5000\n",
      "dtype: int64\n",
      "--------------------------------\n",
      "Califonia        NaN\n",
      "Ohio         35000.0\n",
      "Oregon       16000.0\n",
      "Texas        71000.0\n",
      "dtype: float64\n",
      "--------------------------------\n",
      "Califonia         NaN\n",
      "Ohio          70000.0\n",
      "Oregon        32000.0\n",
      "Texas        142000.0\n",
      "Utah              NaN\n",
      "dtype: float64\n"
     ]
    }
   ],
   "source": [
    "sdata={'Ohio':35000,'Texas':71000,'Oregon':16000,'Utah':5000}\n",
    "obj1=pd.Series(sdata)\n",
    "print(obj1)\n",
    "print('--------------------------------')\n",
    "states=['Califonia','Ohio','Oregon','Texas']\n",
    "obj2=pd.Series(sdata,index=states)#有才对应，没有则为空\n",
    "print(obj2)\n",
    "print('--------------------------------')\n",
    "print(obj1+obj2)#都有则相加，其中一个没有就为空，打印顺序按字母的顺序大写在上，小写在下"
   ]
  },
  {
   "cell_type": "code",
   "execution_count": 47,
   "metadata": {},
   "outputs": [
    {
     "name": "stdout",
     "output_type": "stream",
     "text": [
      "Bob      4\n",
      "Steve    7\n",
      "Jeff    -3\n",
      "Ryan     2\n",
      "dtype: int64\n"
     ]
    }
   ],
   "source": [
    "obj=pd.Series([4,7,-3,2])\n",
    "obj.index=['Bob','Steve','Jeff','Ryan']\n",
    "print(obj)"
   ]
  },
  {
   "cell_type": "markdown",
   "metadata": {},
   "source": [
    "DataFrame"
   ]
  },
  {
   "cell_type": "code",
   "execution_count": 49,
   "metadata": {},
   "outputs": [
    {
     "name": "stdout",
     "output_type": "stream",
     "text": [
      "  name     sex  year city\n",
      "0   张三  female  2001   北京\n",
      "1   李四  female  2001   上海\n",
      "2   王五    male  2003   广州\n",
      "3   小明    male  2002   北京\n"
     ]
    }
   ],
   "source": [
    "data={\n",
    "    'name':['张三','李四','王五','小明'],\n",
    "    'sex':['female','female','male','male'],\n",
    "    'year':[2001,2001,2003,2002],\n",
    "    'city':['北京','上海','广州','北京']\n",
    "}\n",
    "df=pd.DataFrame(data)\n",
    "print(df)"
   ]
  },
  {
   "cell_type": "code",
   "execution_count": 50,
   "metadata": {},
   "outputs": [
    {
     "name": "stdout",
     "output_type": "stream",
     "text": [
      "  name  year     sex city\n",
      "0   张三  2001  female   北京\n",
      "1   李四  2001  female   上海\n",
      "2   王五  2003    male   广州\n",
      "3   小明  2002    male   北京\n"
     ]
    }
   ],
   "source": [
    "df1=pd.DataFrame(data,columns=['name','year','sex','city'])#自定义改变关键字的排序\n",
    "print(df1)"
   ]
  },
  {
   "cell_type": "code",
   "execution_count": 52,
   "metadata": {},
   "outputs": [
    {
     "name": "stdout",
     "output_type": "stream",
     "text": [
      "  name  year     sex city address\n",
      "0   张三  2001  female   北京     NaN\n",
      "1   李四  2001  female   上海     NaN\n",
      "2   王五  2003    male   广州     NaN\n",
      "3   小明  2002    male   北京     NaN\n"
     ]
    }
   ],
   "source": [
    "df2=pd.DataFrame(data,columns=['name','year','sex','city','address'])#自定义改变关键字的排序\n",
    "print(df2)"
   ]
  },
  {
   "cell_type": "code",
   "execution_count": 53,
   "metadata": {},
   "outputs": [
    {
     "name": "stdout",
     "output_type": "stream",
     "text": [
      "  name     sex  year city\n",
      "a   张三  female  2001   北京\n",
      "b   李四  female  2001   上海\n",
      "c   王五    male  2003   广州\n",
      "d   小明    male  2002   北京\n"
     ]
    }
   ],
   "source": [
    "df3=pd.DataFrame(data,columns=['name','sex','year','city'],index=['a','b','c','d'])\n",
    "print(df3)"
   ]
  },
  {
   "cell_type": "code",
   "execution_count": 55,
   "metadata": {},
   "outputs": [
    {
     "name": "stdout",
     "output_type": "stream",
     "text": [
      "  name     sex  year city\n",
      "a   张三  female  2001   北京\n",
      "b   李四  female  2001   上海\n",
      "c   王五    male  2003   广州\n",
      "d   小明    male  2002   北京\n",
      "Index(['a', 'b', 'c', 'd'], dtype='object')\n",
      "Index(['name', 'sex', 'year', 'city'], dtype='object')\n"
     ]
    }
   ],
   "source": [
    "print(df3)\n",
    "print(df3.index)\n",
    "print(df3.columns)"
   ]
  },
  {
   "cell_type": "code",
   "execution_count": 56,
   "metadata": {},
   "outputs": [
    {
     "name": "stdout",
     "output_type": "stream",
     "text": [
      "True\n",
      "False\n"
     ]
    }
   ],
   "source": [
    "print('name' in df.columns)\n",
    "print('a' in df.index)"
   ]
  },
  {
   "cell_type": "code",
   "execution_count": 57,
   "metadata": {},
   "outputs": [
    {
     "data": {
      "text/plain": [
       "Index(['a', 'w', 'b', 'c', 'd'], dtype='object')"
      ]
     },
     "execution_count": 57,
     "metadata": {},
     "output_type": "execute_result"
    }
   ],
   "source": [
    "df3.index.insert(1,'w')"
   ]
  },
  {
   "cell_type": "code",
   "execution_count": 61,
   "metadata": {},
   "outputs": [
    {
     "name": "stdout",
     "output_type": "stream",
     "text": [
      "  name     sex  year city\n",
      "0   张三  female  2001   北京\n",
      "1   李四  female  2001   上海\n",
      "2   王五    male  2003   广州\n",
      "3   小明    male  2002   北京\n",
      "信息表的所有值为：\n",
      " [['张三' 'female' 2001 '北京']\n",
      " ['李四' 'female' 2001 '上海']\n",
      " ['王五' 'male' 2003 '广州']\n",
      " ['小明' 'male' 2002 '北京']]\n",
      "信息表的所有列为：\n",
      " Index(['name', 'sex', 'year', 'city'], dtype='object')\n",
      "信息表的元素个数为：\n",
      " 16\n",
      "信息表的维度为：\n",
      " 2\n",
      "信息表的形状为：\n",
      " (4, 4)\n"
     ]
    }
   ],
   "source": [
    "print(df)\n",
    "print('信息表的所有值为：\\n',df.values)\n",
    "print('信息表的所有列为：\\n',df.columns)\n",
    "print('信息表的元素个数为：\\n',df.size)\n",
    "print('信息表的维度为：\\n',df.ndim)\n",
    "print('信息表的形状为：\\n',df.shape)\n"
   ]
  }
 ],
 "metadata": {
  "kernelspec": {
   "display_name": "Python 3",
   "language": "python",
   "name": "python3"
  },
  "language_info": {
   "codemirror_mode": {
    "name": "ipython",
    "version": 3
   },
   "file_extension": ".py",
   "mimetype": "text/x-python",
   "name": "python",
   "nbconvert_exporter": "python",
   "pygments_lexer": "ipython3",
   "version": "3.8.3"
  }
 },
 "nbformat": 4,
 "nbformat_minor": 4
}
