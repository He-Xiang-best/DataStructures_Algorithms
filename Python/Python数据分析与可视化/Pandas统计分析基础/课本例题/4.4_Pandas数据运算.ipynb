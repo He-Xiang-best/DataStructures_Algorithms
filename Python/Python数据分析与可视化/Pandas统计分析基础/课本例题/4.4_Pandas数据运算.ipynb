{
 "cells": [
  {
   "cell_type": "code",
   "execution_count": 4,
   "metadata": {},
   "outputs": [
    {
     "name": "stdout",
     "output_type": "stream",
     "text": [
      "obj1:\n",
      " a     5.1\n",
      "c    -2.6\n",
      "g     7.8\n",
      "f    10.0\n",
      "dtype: float64\n",
      "obj2:\n",
      " a    2.6\n",
      "b   -2.8\n",
      "g    3.7\n",
      "h   -1.9\n",
      "dtype: float64\n",
      "a     7.7\n",
      "b     NaN\n",
      "c     NaN\n",
      "f     NaN\n",
      "g    11.5\n",
      "h     NaN\n",
      "dtype: float64\n"
     ]
    }
   ],
   "source": [
    "import pandas as pd\n",
    "import numpy as np\n",
    "obj1=pd.Series([5.1,-2.6,7.8,10],index=['a','c','g','f'])\n",
    "print('obj1:\\n',obj1)\n",
    "obj2=pd.Series([2.6,-2.8,3.7,-1.9],index=['a','b','g','h'])\n",
    "print('obj2:\\n',obj2)\n",
    "print(obj1+obj2)"
   ]
  },
  {
   "cell_type": "code",
   "execution_count": 5,
   "metadata": {},
   "outputs": [
    {
     "name": "stdout",
     "output_type": "stream",
     "text": [
      "df1:\n",
      "    a  b  e\n",
      "A  0  1  2\n",
      "C  3  4  5\n",
      "df2:\n",
      "    a  b\n",
      "A  0  1\n",
      "D  2  3\n",
      "df1+df2:\n",
      "      a    b   e\n",
      "A  0.0  2.0 NaN\n",
      "C  NaN  NaN NaN\n",
      "D  NaN  NaN NaN\n"
     ]
    }
   ],
   "source": [
    "a=np.arange(6).reshape(2,3)\n",
    "b=np.arange(4).reshape(2,2)\n",
    "df1=pd.DataFrame(a,columns=['a','b','e'],index=['A','C'])\n",
    "print('df1:\\n',df1)\n",
    "df2=pd.DataFrame(b,columns=['a','b'],index=['A','D'])\n",
    "print('df2:\\n',df2)\n",
    "print('df1+df2:\\n',df1+df2)"
   ]
  },
  {
   "cell_type": "code",
   "execution_count": 6,
   "metadata": {},
   "outputs": [
    {
     "name": "stdout",
     "output_type": "stream",
     "text": [
      "    fruit price\n",
      "0   apple   30元\n",
      "1   grape   43元\n",
      "2  banana   28元\n",
      "修改后的数据表：\n",
      "     fruit price\n",
      "0   apple    30\n",
      "1   grape    43\n",
      "2  banana    28\n"
     ]
    }
   ],
   "source": [
    "data={'fruit':['apple','grape','banana'],'price':['30元','43元','28元']}\n",
    "df1=pd.DataFrame(data)\n",
    "print(df1)\n",
    "def f(x):\n",
    "    return x.split('元')[0]\n",
    "df1['price']=df1['price'].map(f)\n",
    "print('修改后的数据表：\\n',df1)"
   ]
  },
  {
   "cell_type": "code",
   "execution_count": 7,
   "metadata": {},
   "outputs": [
    {
     "name": "stdout",
     "output_type": "stream",
     "text": [
      "            a         b         c\n",
      "app  0.240011 -0.591489  2.146895\n",
      "win -0.681948 -0.794786  0.001416\n",
      "mac -0.300197  1.481695 -0.730402\n"
     ]
    },
    {
     "data": {
      "text/plain": [
       "a   -0.247378\n",
       "b    0.031807\n",
       "c    0.472637\n",
       "dtype: float64"
      ]
     },
     "execution_count": 7,
     "metadata": {},
     "output_type": "execute_result"
    }
   ],
   "source": [
    "df2=pd.DataFrame(np.random.randn(3,3),columns=['a','b','c'],index=['app','win','mac'])\n",
    "print(df2)\n",
    "df2.apply(np.mean)"
   ]
  },
  {
   "cell_type": "code",
   "execution_count": 8,
   "metadata": {},
   "outputs": [
    {
     "name": "stdout",
     "output_type": "stream",
     "text": [
      "            a         b         c\n",
      "app  0.240011 -0.591489  2.146895\n",
      "win -0.681948 -0.794786  0.001416\n",
      "mac -0.300197  1.481695 -0.730402\n"
     ]
    },
    {
     "data": {
      "text/html": [
       "<div>\n",
       "<style scoped>\n",
       "    .dataframe tbody tr th:only-of-type {\n",
       "        vertical-align: middle;\n",
       "    }\n",
       "\n",
       "    .dataframe tbody tr th {\n",
       "        vertical-align: top;\n",
       "    }\n",
       "\n",
       "    .dataframe thead th {\n",
       "        text-align: right;\n",
       "    }\n",
       "</style>\n",
       "<table border=\"1\" class=\"dataframe\">\n",
       "  <thead>\n",
       "    <tr style=\"text-align: right;\">\n",
       "      <th></th>\n",
       "      <th>a</th>\n",
       "      <th>b</th>\n",
       "      <th>c</th>\n",
       "    </tr>\n",
       "  </thead>\n",
       "  <tbody>\n",
       "    <tr>\n",
       "      <th>app</th>\n",
       "      <td>0.240</td>\n",
       "      <td>-0.591</td>\n",
       "      <td>2.147</td>\n",
       "    </tr>\n",
       "    <tr>\n",
       "      <th>win</th>\n",
       "      <td>-0.682</td>\n",
       "      <td>-0.795</td>\n",
       "      <td>0.001</td>\n",
       "    </tr>\n",
       "    <tr>\n",
       "      <th>mac</th>\n",
       "      <td>-0.300</td>\n",
       "      <td>1.482</td>\n",
       "      <td>-0.730</td>\n",
       "    </tr>\n",
       "  </tbody>\n",
       "</table>\n",
       "</div>"
      ],
      "text/plain": [
       "          a       b       c\n",
       "app   0.240  -0.591   2.147\n",
       "win  -0.682  -0.795   0.001\n",
       "mac  -0.300   1.482  -0.730"
      ]
     },
     "execution_count": 8,
     "metadata": {},
     "output_type": "execute_result"
    }
   ],
   "source": [
    "print(df2)\n",
    "df2.applymap(lambda x:'%.3f' %x)"
   ]
  },
  {
   "cell_type": "code",
   "execution_count": 9,
   "metadata": {},
   "outputs": [
    {
     "name": "stdout",
     "output_type": "stream",
     "text": [
      "c    1\n",
      "b   -2\n",
      "a    4\n",
      "d   -4\n",
      "dtype: int64\n",
      "排序后的Series：\n",
      " a    4\n",
      "b   -2\n",
      "c    1\n",
      "d   -4\n",
      "dtype: int64\n"
     ]
    }
   ],
   "source": [
    "wy=pd.Series([1,-2,4,-4],index=['c','b','a','d'])\n",
    "print(wy)\n",
    "print('排序后的Series：\\n',wy.sort_index())"
   ]
  },
  {
   "cell_type": "code",
   "execution_count": 10,
   "metadata": {},
   "outputs": [
    {
     "name": "stdout",
     "output_type": "stream",
     "text": [
      "值排序后的Series：\n",
      " d   -4\n",
      "b   -2\n",
      "c    1\n",
      "a    4\n",
      "dtype: int64\n"
     ]
    }
   ],
   "source": [
    "print('值排序后的Series：\\n',wy.sort_values())"
   ]
  },
  {
   "cell_type": "code",
   "execution_count": 11,
   "metadata": {},
   "outputs": [
    {
     "name": "stdout",
     "output_type": "stream",
     "text": [
      "            a         b         c\n",
      "app  0.240011 -0.591489  2.146895\n",
      "win -0.681948 -0.794786  0.001416\n",
      "mac -0.300197  1.481695 -0.730402\n"
     ]
    },
    {
     "data": {
      "text/html": [
       "<div>\n",
       "<style scoped>\n",
       "    .dataframe tbody tr th:only-of-type {\n",
       "        vertical-align: middle;\n",
       "    }\n",
       "\n",
       "    .dataframe tbody tr th {\n",
       "        vertical-align: top;\n",
       "    }\n",
       "\n",
       "    .dataframe thead th {\n",
       "        text-align: right;\n",
       "    }\n",
       "</style>\n",
       "<table border=\"1\" class=\"dataframe\">\n",
       "  <thead>\n",
       "    <tr style=\"text-align: right;\">\n",
       "      <th></th>\n",
       "      <th>a</th>\n",
       "      <th>b</th>\n",
       "      <th>c</th>\n",
       "    </tr>\n",
       "  </thead>\n",
       "  <tbody>\n",
       "    <tr>\n",
       "      <th>win</th>\n",
       "      <td>-0.681948</td>\n",
       "      <td>-0.794786</td>\n",
       "      <td>0.001416</td>\n",
       "    </tr>\n",
       "    <tr>\n",
       "      <th>mac</th>\n",
       "      <td>-0.300197</td>\n",
       "      <td>1.481695</td>\n",
       "      <td>-0.730402</td>\n",
       "    </tr>\n",
       "    <tr>\n",
       "      <th>app</th>\n",
       "      <td>0.240011</td>\n",
       "      <td>-0.591489</td>\n",
       "      <td>2.146895</td>\n",
       "    </tr>\n",
       "  </tbody>\n",
       "</table>\n",
       "</div>"
      ],
      "text/plain": [
       "            a         b         c\n",
       "win -0.681948 -0.794786  0.001416\n",
       "mac -0.300197  1.481695 -0.730402\n",
       "app  0.240011 -0.591489  2.146895"
      ]
     },
     "execution_count": 11,
     "metadata": {},
     "output_type": "execute_result"
    }
   ],
   "source": [
    "print(df2)\n",
    "df2.sort_values(by='a')"
   ]
  },
  {
   "cell_type": "code",
   "execution_count": 12,
   "metadata": {},
   "outputs": [
    {
     "name": "stdout",
     "output_type": "stream",
     "text": [
      "按列汇总:\n",
      " a   -0.742133\n",
      "b    0.095421\n",
      "c    1.417910\n",
      "dtype: float64\n",
      "按行汇总:\n",
      " app    1.795418\n",
      "win   -1.475317\n",
      "mac    0.451096\n",
      "dtype: float64\n"
     ]
    }
   ],
   "source": [
    "print('按列汇总:\\n',df2.sum())\n",
    "print('按行汇总:\\n',df2.sum(axis=1))"
   ]
  },
  {
   "cell_type": "code",
   "execution_count": 13,
   "metadata": {},
   "outputs": [
    {
     "data": {
      "text/html": [
       "<div>\n",
       "<style scoped>\n",
       "    .dataframe tbody tr th:only-of-type {\n",
       "        vertical-align: middle;\n",
       "    }\n",
       "\n",
       "    .dataframe tbody tr th {\n",
       "        vertical-align: top;\n",
       "    }\n",
       "\n",
       "    .dataframe thead th {\n",
       "        text-align: right;\n",
       "    }\n",
       "</style>\n",
       "<table border=\"1\" class=\"dataframe\">\n",
       "  <thead>\n",
       "    <tr style=\"text-align: right;\">\n",
       "      <th></th>\n",
       "      <th>a</th>\n",
       "      <th>b</th>\n",
       "      <th>c</th>\n",
       "    </tr>\n",
       "  </thead>\n",
       "  <tbody>\n",
       "    <tr>\n",
       "      <th>count</th>\n",
       "      <td>3.000000</td>\n",
       "      <td>3.000000</td>\n",
       "      <td>3.000000</td>\n",
       "    </tr>\n",
       "    <tr>\n",
       "      <th>mean</th>\n",
       "      <td>-0.247378</td>\n",
       "      <td>0.031807</td>\n",
       "      <td>0.472637</td>\n",
       "    </tr>\n",
       "    <tr>\n",
       "      <th>std</th>\n",
       "      <td>0.463244</td>\n",
       "      <td>1.259748</td>\n",
       "      <td>1.495408</td>\n",
       "    </tr>\n",
       "    <tr>\n",
       "      <th>min</th>\n",
       "      <td>-0.681948</td>\n",
       "      <td>-0.794786</td>\n",
       "      <td>-0.730402</td>\n",
       "    </tr>\n",
       "    <tr>\n",
       "      <th>25%</th>\n",
       "      <td>-0.491072</td>\n",
       "      <td>-0.693137</td>\n",
       "      <td>-0.364493</td>\n",
       "    </tr>\n",
       "    <tr>\n",
       "      <th>50%</th>\n",
       "      <td>-0.300197</td>\n",
       "      <td>-0.591489</td>\n",
       "      <td>0.001416</td>\n",
       "    </tr>\n",
       "    <tr>\n",
       "      <th>75%</th>\n",
       "      <td>-0.030093</td>\n",
       "      <td>0.445103</td>\n",
       "      <td>1.074156</td>\n",
       "    </tr>\n",
       "    <tr>\n",
       "      <th>max</th>\n",
       "      <td>0.240011</td>\n",
       "      <td>1.481695</td>\n",
       "      <td>2.146895</td>\n",
       "    </tr>\n",
       "  </tbody>\n",
       "</table>\n",
       "</div>"
      ],
      "text/plain": [
       "              a         b         c\n",
       "count  3.000000  3.000000  3.000000\n",
       "mean  -0.247378  0.031807  0.472637\n",
       "std    0.463244  1.259748  1.495408\n",
       "min   -0.681948 -0.794786 -0.730402\n",
       "25%   -0.491072 -0.693137 -0.364493\n",
       "50%   -0.300197 -0.591489  0.001416\n",
       "75%   -0.030093  0.445103  1.074156\n",
       "max    0.240011  1.481695  2.146895"
      ]
     },
     "execution_count": 13,
     "metadata": {},
     "output_type": "execute_result"
    }
   ],
   "source": [
    "df2.describe()"
   ]
  },
  {
   "cell_type": "code",
   "execution_count": 14,
   "metadata": {},
   "outputs": [
    {
     "name": "stdout",
     "output_type": "stream",
     "text": [
      "['a' 'b' 'c' 'd']\n",
      "a    2\n",
      "c    2\n",
      "b    1\n",
      "d    1\n",
      "dtype: int64\n"
     ]
    }
   ],
   "source": [
    "obj=pd.Series(['a','b','c','a','d','c'])\n",
    "print(obj.unique())\n",
    "print(obj.value_counts())"
   ]
  },
  {
   "cell_type": "code",
   "execution_count": 26,
   "metadata": {},
   "outputs": [
    {
     "name": "stdout",
     "output_type": "stream",
     "text": [
      "key1\n",
      "a    3\n",
      "b    1\n",
      "c    1\n",
      "Name: data1, dtype: int64\n",
      "key1\n",
      "a    0.220920\n",
      "b   -0.147161\n",
      "c   -0.128833\n",
      "Name: data1, dtype: float64\n"
     ]
    }
   ],
   "source": [
    "import pandas as pd\n",
    "import numpy as np\n",
    "df=pd.DataFrame({'key1':['a','a','b','c','a'],\n",
    "                 'key2':['yes','no','yes','yes','no'],\n",
    "                'data1':np.random.randn(5),\n",
    "                'data2':np.random.randn(5)})\n",
    "grouped=df['data1'].groupby(df['key1'])\n",
    "print(grouped.size())\n",
    "print(grouped.mean())"
   ]
  },
  {
   "cell_type": "code",
   "execution_count": 25,
   "metadata": {},
   "outputs": [
    {
     "data": {
      "text/html": [
       "<div>\n",
       "<style scoped>\n",
       "    .dataframe tbody tr th:only-of-type {\n",
       "        vertical-align: middle;\n",
       "    }\n",
       "\n",
       "    .dataframe tbody tr th {\n",
       "        vertical-align: top;\n",
       "    }\n",
       "\n",
       "    .dataframe thead th {\n",
       "        text-align: right;\n",
       "    }\n",
       "</style>\n",
       "<table border=\"1\" class=\"dataframe\">\n",
       "  <thead>\n",
       "    <tr style=\"text-align: right;\">\n",
       "      <th></th>\n",
       "      <th>data1</th>\n",
       "      <th>data2</th>\n",
       "    </tr>\n",
       "    <tr>\n",
       "      <th>key2</th>\n",
       "      <th></th>\n",
       "      <th></th>\n",
       "    </tr>\n",
       "  </thead>\n",
       "  <tbody>\n",
       "    <tr>\n",
       "      <th>no</th>\n",
       "      <td>0.963506</td>\n",
       "      <td>-0.337354</td>\n",
       "    </tr>\n",
       "    <tr>\n",
       "      <th>yes</th>\n",
       "      <td>-1.432929</td>\n",
       "      <td>-0.155196</td>\n",
       "    </tr>\n",
       "  </tbody>\n",
       "</table>\n",
       "</div>"
      ],
      "text/plain": [
       "         data1     data2\n",
       "key2                    \n",
       "no    0.963506 -0.337354\n",
       "yes  -1.432929 -0.155196"
      ]
     },
     "execution_count": 25,
     "metadata": {},
     "output_type": "execute_result"
    }
   ],
   "source": [
    "groupk1=df.groupby('key2').mean()\n",
    "groupk1"
   ]
  },
  {
   "cell_type": "code",
   "execution_count": 27,
   "metadata": {},
   "outputs": [
    {
     "data": {
      "text/html": [
       "<div>\n",
       "<style scoped>\n",
       "    .dataframe tbody tr th:only-of-type {\n",
       "        vertical-align: middle;\n",
       "    }\n",
       "\n",
       "    .dataframe tbody tr th {\n",
       "        vertical-align: top;\n",
       "    }\n",
       "\n",
       "    .dataframe thead th {\n",
       "        text-align: right;\n",
       "    }\n",
       "</style>\n",
       "<table border=\"1\" class=\"dataframe\">\n",
       "  <thead>\n",
       "    <tr style=\"text-align: right;\">\n",
       "      <th></th>\n",
       "      <th>data1</th>\n",
       "      <th>data2</th>\n",
       "    </tr>\n",
       "  </thead>\n",
       "  <tbody>\n",
       "    <tr>\n",
       "      <th>w</th>\n",
       "      <td>-0.009198</td>\n",
       "      <td>2.716547</td>\n",
       "    </tr>\n",
       "    <tr>\n",
       "      <th>y</th>\n",
       "      <td>0.395963</td>\n",
       "      <td>0.162831</td>\n",
       "    </tr>\n",
       "  </tbody>\n",
       "</table>\n",
       "</div>"
      ],
      "text/plain": [
       "      data1     data2\n",
       "w -0.009198  2.716547\n",
       "y  0.395963  0.162831"
      ]
     },
     "execution_count": 27,
     "metadata": {},
     "output_type": "execute_result"
    }
   ],
   "source": [
    "wlist=['w','w','y','w','y']\n",
    "df.groupby(wlist).sum()"
   ]
  },
  {
   "cell_type": "code",
   "execution_count": 29,
   "metadata": {},
   "outputs": [
    {
     "name": "stdout",
     "output_type": "stream",
     "text": [
      "数据为：\n",
      "           0         1         2         3         4\n",
      "a  0.241192  0.770398 -0.847210  0.381636 -1.421680\n",
      "b  1.484684  1.476221  0.609994 -0.124201  0.514213\n",
      "c -0.111186  1.958946 -0.139511 -0.870358  0.007008\n",
      "A -0.512186  0.313471  0.978878  0.251530  0.569095\n",
      "B -0.789155 -0.186439  0.330809  2.024273 -0.691417\n",
      "c  0.270075 -1.221661  0.823711 -0.360448 -0.521745\n",
      "分组汇总后的结果为：\n",
      "               0         1         2         3         4\n",
      "one   -0.270994  1.083868  0.131668  0.633165 -0.852585\n",
      "three  0.158889  0.737285  0.684199 -1.230806 -0.514737\n",
      "two    0.695529  1.289782  0.940803  1.900072 -0.177203\n"
     ]
    }
   ],
   "source": [
    "df=pd.DataFrame(np.random.normal(size=(6,5)),index=['a','b','c','A','B','c'])\n",
    "print('数据为：\\n',df)\n",
    "wdict={'a':'one','A':'one','b':'two','B':'two','c':'three'}\n",
    "print('分组汇总后的结果为：\\n',df.groupby(wdict).sum())"
   ]
  },
  {
   "cell_type": "code",
   "execution_count": 30,
   "metadata": {},
   "outputs": [
    {
     "name": "stdout",
     "output_type": "stream",
     "text": [
      "          0         1         2         3\n",
      "0 -0.213715 -0.399258 -1.455622  0.520606\n",
      "1  0.727067  0.394802 -0.795081  0.818997\n",
      "2  1.542224 -1.921260 -2.512967 -1.278621\n",
      "3  0.793145 -0.460053  0.257168 -0.015782\n",
      "3\n",
      "a    1.339602\n",
      "b   -1.294403\n",
      "Name: 3, dtype: float64\n"
     ]
    }
   ],
   "source": [
    "def judge(x):\n",
    "    if x>=0:\n",
    "        return 'a'\n",
    "    else:\n",
    "        return 'b'\n",
    "df=pd.DataFrame(np.random.randn(4,4))\n",
    "print(df)\n",
    "print(df[3].groupby(df[3].map(judge)).sum())"
   ]
  },
  {
   "cell_type": "code",
   "execution_count": null,
   "metadata": {},
   "outputs": [],
   "source": []
  }
 ],
 "metadata": {
  "kernelspec": {
   "display_name": "Python 3",
   "language": "python",
   "name": "python3"
  },
  "language_info": {
   "codemirror_mode": {
    "name": "ipython",
    "version": 3
   },
   "file_extension": ".py",
   "mimetype": "text/x-python",
   "name": "python",
   "nbconvert_exporter": "python",
   "pygments_lexer": "ipython3",
   "version": "3.8.3"
  }
 },
 "nbformat": 4,
 "nbformat_minor": 4
}
